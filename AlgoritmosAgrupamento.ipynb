{
 "cells": [
  {
   "cell_type": "markdown",
   "id": "1d4fcebf",
   "metadata": {},
   "source": [
    "<hr style=\"height:10px\"> \n",
    " \n",
    "<div class='container2'>\n",
    "\t<div style='padding: 0 7em 2em 0em;'>\n",
    "\t<h1>Trabalho de Inteligência Artificial</h1>\n",
    "    <h3> <a href=\"https://github.com/amandakouchi\">Amanda Kouchi</a> &#x25CF; <a href=\"https://github.com/biarog\">Beatriz Rogers</a> &#x25CF; <a href=\"https://github.com/matteoavan\">Matteo Savan</a> &#x25CF; <a href=\"https://github.com/RaulYKomai\">Raul Y. Komai</a>\n",
    "\t</div>\n",
    "</div>\n",
    "\n",
    "\n",
    " <hr style=\"height:5px\"> \n",
    "\n",
    "    \n",
    "<h2>Algoritmos e Avaliação em Agrupamento</h2>"
   ]
  },
  {
   "cell_type": "markdown",
   "id": "1f9606d1",
   "metadata": {},
   "source": [
    "## Introdução\n",
    "\n",
    "Neste *notebook*, exploramos três métodos de agrupamento: K-Médias, Single-Link e Complete-Link; e o Índice Rand. Cada um desses algoritmos, todos implementados em Python, aplica uma abordagem diferente de organização de dados em grupos, o que influencia tanto na forma como os clusters são definidos quanto na interpretação que podemos ter dos resultados obtidos. \n",
    "\t\n",
    "O objetivo desse projeto, referente à matéria de Inteligência Artificial da professora Drª Katti Faceli, é construir e aplicar os algoritmos aos datasets fornecidos, avaliando a qualidade das partições resultantes por meio do Índice Rand Ajustado, comparando-os com as partições reais."
   ]
  },
  {
   "cell_type": "markdown",
   "id": "b7ae3913",
   "metadata": {},
   "source": [
    "---\n",
    "\n",
    "## Recursos Necessários\n",
    "\n",
    "Para este *notebook*, deve ser utilizado o `Python 3.6` ou superior com as seguintes bibliotecas externas, que deverão ser instaladas:\n",
    "\n",
    "* [`matplotlib`](versão 3.9.2 ou superior): construção e exibição de gráficos variados\n",
    "* [`numpy`](versão 2.1 ou superior): manipulação de dados em formato de vetores e matrizes\n",
    "* [`pandas`](versão 2.2.2 ou superior): manipulação de dados em formato de tabelas\n",
    "* [`sklearn`](versão x.x ou superior): completar\n",
    "* [`seaborn`]versão x.x ou superior): completar\n",
    "\n",
    "A biblioteca [`os`](https://docs.python.org/3/library/os.html), para realizar tarefas específicas ao Sistema Operacional, também será utilizada. Por fazer parte da [Biblioteca Padrão de Python](https://docs.python.org/pt-br/3/library/), sua instalação não é necessária.\n",
    "\n",
    "Serão utilizados também os conjuntos de dados disponibilizados junto com este *notebook*, que se encontram no diretório `datasets`, em formato de arquivo `.txt`."
   ]
  },
  {
   "cell_type": "code",
   "execution_count": 4,
   "id": "ec9f6ba7-45c2-49ca-9edb-4b662566bcc6",
   "metadata": {},
   "outputs": [],
   "source": [
    "## Imports\n",
    "from matplotlib import pyplot as plt\n",
    "import numpy as np\n",
    "import os\n",
    "import pandas as pd\n",
    "from sklearn import cluster \n",
    "from sklearn.cluster import KMeans\n",
    "from scipy.spatial import distance_matrix\n",
    "import seaborn as sns\n",
    "import sys\n",
    "\n",
    "%matplotlib inline\n",
    "\n",
    "DATASETS_DIR = 'datasets'"
   ]
  },
  {
   "cell_type": "markdown",
   "id": "21fd61ba",
   "metadata": {},
   "source": [
    "## Funções Auxiliares"
   ]
  },
  {
   "cell_type": "code",
   "execution_count": 5,
   "id": "d1f3a821-c161-4c0e-ac92-ca3613ee3bec",
   "metadata": {},
   "outputs": [],
   "source": [
    "## Função auxiliar para carregar dados\n",
    "def load_dataset(dataset_name):\n",
    "    dataset = pd.read_csv(os.path.join(DATASETS_DIR, dataset_name+'.txt'), sep='\\t', index_col = 0)\n",
    "    return dataset"
   ]
  },
  {
   "cell_type": "code",
   "execution_count": null,
   "id": "a05d1708",
   "metadata": {},
   "outputs": [],
   "source": [
    "## Funcao para definir cores\n",
    "\n",
    "def colorize(data):\n",
    "    color_palette = ['#910101', '#036CD7', '#078F8F', '#000000', '#FDFD6F', '#B16FFD', '#22FF25',\n",
    "                     '#074752', '#8F4A00', '#FE6FB5', '#6BB6FE', '#DF6B00', '#48018D', '#FCB5DA']\n",
    "    labels = np.unique(data)\n",
    "    if len(labels) > len(color_palette):\n",
    "        color_palette += [\"#%06x\" % c for c in np.random.randint(0, 0xFFFFFF, len(labels)-len(color_palette))]\n",
    "    color_array = np.empty(data.shape, dtype=object)\n",
    "    for label, color in zip(labels, color_palette):\n",
    "        color_array[np.where(data==label)] = color\n",
    "    return color_array"
   ]
  },
  {
   "cell_type": "code",
   "execution_count": null,
   "id": "87de77b9",
   "metadata": {},
   "outputs": [],
   "source": [
    "## Função auxiliar para plottar os dados de saída\n",
    "\n",
    "def plot_multiple_partitions(dataset, cluster_labels, nrows, ncols, suptitle=None, subtitles=None):\n",
    "    fig, ax = plt.subplots(nrows=nrows, ncols=ncols, figsize=(min(5*ncols, 12), 3*nrows), constrained_layout=True)\n",
    "    ax = ax.flatten()\n",
    "    for i, clusters in enumerate(cluster_labels):\n",
    "        ax[i].scatter(dataset['d1'], dataset['d2'], s=10, c=colorize(clusters))\n",
    "        if subtitles is not None:\n",
    "            ax[i].set_title(subtitles[i])\n",
    "        ax[i].tick_params(which='both', bottom=False, left=False, labelbottom=False, labelleft=False)\n",
    "    if suptitle is not None:\n",
    "        fig.suptitle(suptitle, fontsize=16)\n",
    "    plt.show()\n",
    "## Função auxiliar para plottar os dados de entrada\n",
    "def plot_entry_data(data) -> None:\n",
    "    X = data[['d1', 'd2']]\n",
    "    plt.scatter(X[\"d1\"],X[\"d2\"], c=\"red\")\n",
    "    plt.xlabel(\"d1\")\n",
    "    plt.ylabel(\"d2\")\n",
    "    plt.show()"
   ]
  },
  {
   "cell_type": "code",
   "execution_count": 6,
   "id": "e90bf180",
   "metadata": {},
   "outputs": [],
   "source": [
    "## Função auxiliar para plottar os dados de entrada\n",
    "def plot_entry_data(data) -> None:\n",
    "    X = data[['d1', 'd2']]\n",
    "    plt.scatter(X[\"d1\"],X[\"d2\"], c=\"red\")\n",
    "    plt.xlabel(\"d1\")\n",
    "    plt.ylabel(\"d2\")\n",
    "    plt.show()"
   ]
  },
  {
   "cell_type": "code",
   "execution_count": 5,
   "id": "461caebf",
   "metadata": {},
   "outputs": [],
   "source": [
    "\n",
    "## Funcao auxiliar para definir o dataframe apos a agregacao\n",
    "def create_df(data, clusters):\n",
    "    df = pd.DataFrame(data)\n",
    "    df.columns = [\"d1\",\"d2\"]\n",
    "    df[\"cluster\"] = clusters\n",
    "    \n",
    "    return df"
   ]
  },
  {
   "cell_type": "code",
   "execution_count": 79,
   "id": "acc9d9fe",
   "metadata": {},
   "outputs": [],
   "source": [
    "\n",
    "## Funcao auxiliar de exportar arquivo\n",
    "def export_dataframe(df, n_group, n_arquivo) -> None :\n",
    "    select = ['sample_label', 'cluster']\n",
    "    select = [x for x in df.columns if x in select]\n",
    "    export = df[select]\n",
    "    export.to_csv(n_arquivo + '_' + n_group + '.csv')"
   ]
  },
  {
   "cell_type": "markdown",
   "id": "373dde30",
   "metadata": {},
   "source": [
    "## Dados iniciais\n",
    "\n",
    "Em seguida estão desenhados os dados originais que serão utilizados nos testes de todas as funções de agrupamento."
   ]
  },
  {
   "cell_type": "code",
   "execution_count": 7,
   "id": "da16c3c1",
   "metadata": {},
   "outputs": [
    {
     "data": {
      "image/png": "[encoded data removed]",
      "text/plain": [
       "<Figure size 640x480 with 1 Axes>"
      ]
     },
     "metadata": {},
     "output_type": "display_data"
    },
    {
     "data": {
      "image/png": "[encoded data removed]",
      "text/plain": [
       "<Figure size 640x480 with 1 Axes>"
      ]
     },
     "metadata": {},
     "output_type": "display_data"
    },
    {
     "data": {
      "image/png": "[encoded data removed]",
      "text/plain": [
       "<Figure size 640x480 with 1 Axes>"
      ]
     },
     "metadata": {},
     "output_type": "display_data"
    }
   ],
   "source": [
    "## Entrada das bases de dados\n",
    "globs, spiral, monkey = load_dataset('c2ds3-2g'), load_dataset('c2ds1-2sp'), load_dataset('monkey')\n",
    "dados = [globs, spiral, monkey]\n",
    "plot_entry_data(data=dados[0])\n",
    "plot_entry_data(data=dados[1])\n",
    "plot_entry_data(data=dados[2])\n",
    "plt.show()"
   ]
  },
  {
   "cell_type": "markdown",
   "id": "e419b6a8",
   "metadata": {},
   "source": [
    "---\n",
    "## K-médias\n",
    "\n",
    "O K-Médias busca minimizar a soma das distâncias quadradas entre os pontos de dados e o centróide do cluster ao qual pertencem. O algoritmo começa escolhendo k centróides iniciais, que podem ser selecionados aleatoriamente, e então itera entre atribuir cada ponto ao centróide mais próximo e recalcular os centróides dos clusters formados. O processo continua até que os centróides se estabilizem ou até que o número máximo de iterações seja atingido. \n",
    "\n",
    "O nosso algoritmo recebe como entrada um arquivo texto com o conjunto de dados, o número de clusters desejado e o número de iterações que o algoritmo deverá executar. A saída produzida é um arquivo com uma partição do conjunto de dados no mesmo formato que o da partição real."
   ]
  },
  {
   "cell_type": "code",
   "execution_count": 80,
   "id": "6fdaf632",
   "metadata": {},
   "outputs": [],
   "source": [
    "## Função de distância\n",
    "def distancia(a,b):\n",
    "    return np.square(np.sum((a-b)**2)) "
   ]
  },
  {
   "cell_type": "code",
   "execution_count": 81,
   "id": "1ce0a3d6-ce42-4589-b40c-053bbd2e0b50",
   "metadata": {},
   "outputs": [],
   "source": [
    "## Entrada de dados\n",
    "maxiter = 2"
   ]
  },
  {
   "cell_type": "code",
   "execution_count": 83,
   "id": "6917b784-361b-4365-a852-26e9249ecb7c",
   "metadata": {
    "scrolled": true
   },
   "outputs": [],
   "source": [
    "## Função de iniciar centróides\n",
    "def initiate_centroids(k,dset):\n",
    "    centroides = dset.sample(k)\n",
    "    return centroides\n",
    "\n",
    "## Iniciar centróides\n",
    "X0 = dados[0][['d1', 'd2']]\n",
    "X1 = dados[1][['d1', 'd2']]\n",
    "X2 = dados[2][['d1', 'd2']]"
   ]
  },
  {
   "cell_type": "code",
   "execution_count": 84,
   "id": "b1607062",
   "metadata": {},
   "outputs": [],
   "source": [
    "## Atribuição de das amostras aos centróides\n",
    "def centroid_assignation(dset, centroids):\n",
    "    k = centroids.shape[0]\n",
    "    n = dset.shape[0]\n",
    "    assignation = []\n",
    "\n",
    "    for obs in range(n):\n",
    "        # Calcular distâncias\n",
    "        distances = np.array([])\n",
    "        for centroid in range(k):\n",
    "            err = distancia(centroids.iloc[centroid, :], dset.iloc[obs,:])\n",
    "            distances = np.append(distances, err)\n",
    "\n",
    "        # Pegar o centróide mais próximo\n",
    "        nearest_centroid =  np.where(distances==np.amin(distances))[0].tolist()[0]\n",
    "\n",
    "        # Adicionar os valores às suas listas correspondentes\n",
    "        assignation.append(nearest_centroid)\n",
    "\n",
    "    return assignation"
   ]
  },
  {
   "cell_type": "code",
   "execution_count": 85,
   "id": "fc3b3480",
   "metadata": {},
   "outputs": [],
   "source": [
    "## Função do K-médias\n",
    "def kmeans(dset, k, maxiter):\n",
    "    working_dset = dset.copy()\n",
    "    \n",
    "    centroids = initiate_centroids(k, dset)\n",
    "\n",
    "    for i in range(maxiter):\n",
    "        working_dset['centroid'] = centroid_assignation(working_dset, centroids) \n",
    "        centroids = working_dset.groupby('centroid').agg('mean').reset_index(drop = True)\n",
    "\n",
    "    working_dset['centroid'] = centroid_assignation(working_dset, centroids)\n",
    "    centroids = working_dset.groupby('centroid').agg('mean').reset_index(drop = True)\n",
    "    return working_dset['centroid'], centroids"
   ]
  },
  {
   "cell_type": "code",
   "execution_count": 86,
   "id": "21e20a97",
   "metadata": {},
   "outputs": [],
   "source": [
    "## Execução do K-médias\n",
    "np.random.seed(86)\n",
    "centroidsg = []\n",
    "centroidsp = []\n",
    "centroidsm = []\n",
    "for i in range(2,13):\n",
    "    if i <= 5:\n",
    "        X0['centroid' + str(i)], centroidsg =  kmeans(X0[['d1','d2']], i, maxiter)\n",
    "        X1['centroid' + str(i)], centroidsp =  kmeans(X1[['d1','d2']], i, maxiter)\n",
    "    if i >= 5:\n",
    "        X2['centroid' + str(i)], centroidsm =  kmeans(X2[['d1','d2']], i, maxiter)"
   ]
  },
  {
   "cell_type": "code",
   "execution_count": 87,
   "id": "092cea17",
   "metadata": {},
   "outputs": [],
   "source": [
    "## Plotar após k-médias\n",
    "df0_kmeans = pd.DataFrame(X0)\n",
    "df1_kmeans = pd.DataFrame(X1)\n",
    "df2_kmeans = pd.DataFrame(X2)\n",
    "\n",
    "def kmeans_plot(): \n",
    "    for i in range(2,6):\n",
    "        cores = sns.color_palette()[0:i]\n",
    "        sns.scatterplot(data = df0_kmeans, x=df0_kmeans[\"d1\"], y=df0_kmeans[\"d2\"], hue=df0_kmeans[\"centroid\" + str(i)], palette=cores)\n",
    "        plt.show() \n",
    "    \n",
    "    for i in range(2,6):\n",
    "        cores = sns.color_palette()[0:i]\n",
    "        sns.scatterplot(data = df1_kmeans, x=df1_kmeans[\"d1\"], y=df1_kmeans[\"d2\"], hue=df1_kmeans[\"centroid\" + str(i)], palette=cores)\n",
    "        plt.show()    \n",
    "    \n",
    "    for i in range(5,13):\n",
    "        cores = sns.color_palette('Paired')[0:i]\n",
    "        sns.scatterplot(data = df2_kmeans, x=df2_kmeans[\"d1\"], y=df2_kmeans[\"d2\"], hue=df2_kmeans[\"centroid\" + str(i)], palette=cores)\n",
    "        plt.show()"
   ]
  },
  {
   "cell_type": "code",
   "execution_count": 88,
   "id": "e8dadb0b",
   "metadata": {},
   "outputs": [],
   "source": [
    "## Função auxiliar para exportar arquivos\n",
    "def exportar(nome_arquivo, df, centroid):\n",
    "    select_ = ['sample_label', centroid]\n",
    "    select = [x for x in df.columns if x in select_]\n",
    "    export = df[select]\n",
    "    export.to_csv(nome_arquivo + '.csv')"
   ]
  },
  {
   "cell_type": "code",
   "execution_count": 90,
   "id": "ceae478a-e2fa-497a-9baa-7a478a9768df",
   "metadata": {},
   "outputs": [],
   "source": [
    "## Exportar arquivos\n",
    "for i in range(2,13):\n",
    "    if i <= 5:\n",
    "        export_dataframe(df0_kmeans, \"Kmeans\", \"glob\", i)\n",
    "        export_dataframe(df1_kmeans, \"Kmeans\", \"spiral\", i)\n",
    "\n",
    "    if i >= 5:\n",
    "        export_dataframe(df2_kmeans, \"Kmeans\", \"monkee\", i)"
   ]
  },
  {
   "cell_type": "markdown",
   "id": "93fc7f46",
   "metadata": {},
   "source": [
    "---\n",
    "## Single-Link\n",
    "\n",
    "O Single-Link é um algoritmo hierárquico que forma clusters. Inicialmente, cada  dado é tratado como um cluster individual. Após iterar, há união dos dois clusters mais próximos em cada etapa, onde a proximidade é determinada pela menor distância entre qualquer par de pontos nos dois clusters.\n",
    "\n",
    "O nosso algoritmo recebe como entrada um arquivo texto com o conjunto de dados kMin e kMax (2 e 5, respectivamente). A saída produzida é um ou mais arquivos, cada um com uma partição do conjunto de dados."
   ]
  },
  {
   "cell_type": "code",
   "execution_count": 19,
   "id": "34259afb",
   "metadata": {},
   "outputs": [],
   "source": [
    "## Função de Single Link\n",
    "def single_link(data, n_clusters:int):\n",
    "    m_distancias = distance_matrix(data.values, data.values, p=2)\n",
    "    single = [-1]*len(m_distancias)\n",
    "    total_clusters = len(m_distancias)\n",
    "    counter:int = 0\n",
    "    cluster_id:int = -1\n",
    "    \n",
    "    if total_clusters > n_clusters:      \n",
    "        while(total_clusters > n_clusters): \n",
    "            n_menos1 = 0\n",
    "            line:int = 0\n",
    "            column:int = 0\n",
    "            \n",
    "            cluster:bool = True\n",
    "            \n",
    "            shortest_dist = np.min(m_distancias[m_distancias>0])\n",
    "            line = np.where(m_distancias == shortest_dist)[0][0]\n",
    "            column = np.where(m_distancias == shortest_dist)[1][0]\n",
    "            \n",
    "            if single[line] < 0 and single[column] < 0:\n",
    "                cluster = False\n",
    "            \n",
    "            if cluster:\n",
    "                \n",
    "                if single[line] >= 0:\n",
    "                    cluster_id = -single[line] -1\n",
    "                elif single[column] >= 0:\n",
    "                    cluster_id = -single[column] -1\n",
    "                \n",
    "                m_distancias[column][line] = m_distancias[line][column] = cluster_id\n",
    "                \n",
    "                idx_column = idx_line = -1\n",
    "                for idx_n, n in enumerate(single):\n",
    "                    if n == single[column] and idx_n != column and n > -1:\n",
    "                        idx_column = idx_n\n",
    "                        single[idx_column] = -cluster_id - 1\n",
    "                        m_distancias[idx_column][column] = m_distancias[column][idx_column] = cluster_id\n",
    "                        m_distancias[idx_column][line] = m_distancias[line][idx_column] = cluster_id\n",
    "                    elif n == single[line] and idx_n != line and n > -1:\n",
    "                        idx_line = idx_n\n",
    "                        single[idx_line] = -cluster_id - 1\n",
    "                        m_distancias[idx_line][column] = m_distancias[column][idx_line] = cluster_id\n",
    "                        m_distancias[idx_line][line] = m_distancias[line][idx_line] = cluster_id\n",
    "                    if idx_column > -1 and idx_line > -1:\n",
    "                        m_distancias[idx_line][idx_column] = m_distancias[idx_column][idx_line] = cluster_id\n",
    "                \n",
    "                single[line] = single[column] = -cluster_id - 1\n",
    "\n",
    "            else :\n",
    "                m_distancias[column][line] = m_distancias[line][column] = -counter - 1\n",
    "                single[line] = single[column] = counter\n",
    "                counter += 1\n",
    "\n",
    "            ## Atualizar distâncias\n",
    "            for idx_x in range(len(m_distancias)):\n",
    "                if m_distancias[line][idx_x] <= m_distancias[column][idx_x] and m_distancias[line][idx_x] > 0:\n",
    "                    m_distancias[column][idx_x] = m_distancias[idx_x][column] = m_distancias[line][idx_x]\n",
    "                elif m_distancias[line][idx_x] > m_distancias[column][idx_x] and m_distancias[column][idx_x] > 0:\n",
    "                    m_distancias[line][idx_x] = m_distancias[idx_x][line] = m_distancias[column][idx_x]\n",
    "            \n",
    "            ## Contar quantos elementos \"estão sem cluster\"\n",
    "            for x in single:\n",
    "                if x == -1:\n",
    "                    n_menos1 += 1\n",
    "            \n",
    "            ## Contar \"quantos clusters tem\"\n",
    "            total_clusters = len(set(single)) + n_menos1\n",
    "            \n",
    "            if n_menos1 > 0:\n",
    "                total_clusters -= 1\n",
    "                \n",
    "            if total_clusters == n_clusters:\n",
    "                break\n",
    "    \n",
    "\n",
    "    ## Atribuir cluster para os \"que não tem cluster\"\n",
    "    for idx_n, n in enumerate(single):\n",
    "        if n == -1:\n",
    "            single[idx_n] = max(single) + 1\n",
    "\n",
    "    return single"
   ]
  },
  {
   "cell_type": "code",
   "execution_count": null,
   "id": "68b0c9c0",
   "metadata": {},
   "outputs": [],
   "source": [
    "## Definicao das databases\n",
    "\n",
    "for i in range(2,13):\n",
    "    if i <= 5:\n",
    "        single0 = single_link(dados[0], i)\n",
    "        single1 = single_link(dados[1], i)\n",
    "    if i >= 5:\n",
    "        single2 = single_link(dados[2], i)\n",
    "\n",
    "df0_single = create_df(data=dados[0], clusters=single0)\n",
    "df1_single = create_df(data=dados[1], clusters=single0)\n",
    "df2_single = create_df(data=dados[2], clusters=single0)"
   ]
  },
  {
   "cell_type": "code",
   "execution_count": null,
   "id": "caa81ec6",
   "metadata": {},
   "outputs": [],
   "source": [
    "def single_link_plot(): \n",
    "    for i in range(2,6):\n",
    "        cores = sns.color_palette()[0:i]\n",
    "        sns.scatterplot(data = df0_single, x=df0_single[\"d1\"], y=df0_single[\"d2\"], hue=df0_single[\"centroid\" + str(i)], palette=cores)\n",
    "        plt.show() \n",
    "    \n",
    "    for i in range(2,6):\n",
    "        cores = sns.color_palette()[0:i]\n",
    "        sns.scatterplot(data = df1_single, x=df1_single[\"d1\"], y=df1_single[\"d2\"], hue=df1_single[\"centroid\" + str(i)], palette=cores)\n",
    "        plt.show()    \n",
    "    \n",
    "    for i in range(5,13):\n",
    "        cores = sns.color_palette('Paired')[0:i]\n",
    "        sns.scatterplot(data = df2_single, x=df2_single[\"d1\"], y=df2_single[\"d2\"], hue=df2_single[\"centroid\" + str(i)], palette=cores)\n",
    "        plt.show()"
   ]
  },
  {
   "cell_type": "code",
   "execution_count": null,
   "id": "e8445e7b",
   "metadata": {},
   "outputs": [],
   "source": [
    "## Exportar arquivos\n",
    "for i in range(2,13):\n",
    "    if i <= 5:\n",
    "        export_dataframe(df0_single, \"SingleLink\", \"glob\", i)\n",
    "        export_dataframe(df1_single, \"SingleLink\", \"spiral\", i)\n",
    "\n",
    "    if i >= 5:\n",
    "        export_dataframe(df2_single, \"SingleLink\", \"monkee\", i)"
   ]
  },
  {
   "cell_type": "markdown",
   "id": "36279c46",
   "metadata": {},
   "source": [
    "---\n",
    "## Complete-Link\n",
    "\n",
    "O Complete-Link, assim como o Single-Link, é um algoritmo hierárquico aglomerativo. Mas, em vez de considerar a menor distância entre os pontos dos clusters, o Complete-Link considera a maior distância entre os pontos de dois clusters.\n",
    "\n",
    "O nosso algoritmo recebe como entrada um arquivo texto com o conjunto de dados kMin e kMax (2 e 5, respectivamente). A saída produzida é um ou mais arquivos, cada um com uma partição do conjunto de dados."
   ]
  },
  {
   "cell_type": "code",
   "execution_count": 25,
   "id": "b20557b6",
   "metadata": {},
   "outputs": [],
   "source": [
    "## Função de Complete Link\n",
    "def complete_link(data, n_clusters:int):\n",
    "    m_distancias = distance_matrix(data.values, data.values, p=2)\n",
    "    complete = [-1]*len(m_distancias)\n",
    "    total_clusters = len(m_distancias)\n",
    "    counter:int = 0\n",
    "    cluster_id:int = -1\n",
    "    \n",
    "    if total_clusters > n_clusters:      \n",
    "        while(total_clusters > n_clusters): \n",
    "            n_menos1 = 0\n",
    "            line:int = 0\n",
    "            column:int = 0\n",
    "            \n",
    "            cluster:bool = True\n",
    "            \n",
    "            shortest_dist = np.min(m_distancias[m_distancias>0])\n",
    "            line = np.where(m_distancias == shortest_dist)[0][0]\n",
    "            column = np.where(m_distancias == shortest_dist)[1][0]\n",
    "            \n",
    "            if complete[line] < 0 and complete[column] < 0:\n",
    "                cluster = False\n",
    "            \n",
    "            ###############\n",
    "            if cluster:\n",
    "            # Instancias onde o menor valor é repetido (no caso de ter um cluster sempre vai ter)\n",
    "                tds_instancias = list(set(np.where(m_distancias == shortest_dist)[0]))\n",
    "                \n",
    "                # Garantindo que sejam pegos 2 clusters distintos \n",
    "                prim_cluster_a_se_juntar = complete[tds_instancias[0]] # seria o a\n",
    "                seg_cluster_a_Se_juntar:int # isso seria o z do exemplo\n",
    "                \n",
    "                for n in tds_instancias:\n",
    "                    if complete[n] != prim_cluster_a_se_juntar:\n",
    "                        seg_cluster_a_Se_juntar = complete[n]\n",
    "                        break\n",
    "                \n",
    "                # Criando um vetor somente com os idxs dos clusters a serem utilizados\n",
    "                instancias_usadas = []\n",
    "                \n",
    "                for n in tds_instancias:\n",
    "                    if complete[n] == prim_cluster_a_se_juntar:\n",
    "                        instancias_usadas.append(n)\n",
    "                        if complete[n] == -1:\n",
    "                            break\n",
    "                \n",
    "                for n in tds_instancias:\n",
    "                    if complete[n] == seg_cluster_a_Se_juntar:\n",
    "                        instancias_usadas.append(n)\n",
    "                        if complete[n] == -1:\n",
    "                            break\n",
    "                               \n",
    "                \n",
    "                # Pega o maior valor da tabela entre as colunas de cada instancia\n",
    "                for col in range(m_distancias.shape[1]):\n",
    "                    maior = max(m_distancias[instancias_usadas, col])\n",
    "                    m_distancias[instancias_usadas, col] = maior\n",
    "                    m_distancias[col, instancias_usadas] = maior\n",
    "                \n",
    "                for n in instancias_usadas:\n",
    "                    if prim_cluster_a_se_juntar != -1:\n",
    "                        complete[n] = prim_cluster_a_se_juntar\n",
    "                    else:\n",
    "                        complete[n] = seg_cluster_a_Se_juntar\n",
    "                    \n",
    "                    m_distancias[n][instancias_usadas] = -complete[n] -1   \n",
    "            ###############\n",
    "\n",
    "            else :\n",
    "                m_distancias[column][line] = m_distancias[line][column] = -counter - 1\n",
    "                complete[line] = complete[column] = counter\n",
    "                counter += 1\n",
    "\n",
    "            ## Atualizar distâncias  ## Atualizar aki para o single-link\n",
    "            for idx_x in range(len(m_distancias)): ## idx_x in range(tamanho da tabela)\n",
    "                if m_distancias[line][idx_x] >= m_distancias[column][idx_x] and m_distancias[column][idx_x] > 0:\n",
    "                    m_distancias[column][idx_x] = m_distancias[idx_x][column] = m_distancias[line][idx_x] ## É x mesmo?\n",
    "                elif m_distancias[line][idx_x] < m_distancias[column][idx_x] and m_distancias[line][idx_x] > 0:\n",
    "                    m_distancias[line][idx_x] = m_distancias[idx_x][line] = m_distancias[column][idx_x] #m_distancias[column][idx_x]\n",
    "            \n",
    "            ## Contar quantos elementos \"estão sem cluster\"\n",
    "            for x in complete:\n",
    "                if x == -1:\n",
    "                    n_menos1 += 1\n",
    "            \n",
    "            ## Contar \"quantos clusters tem\"\n",
    "            total_clusters = len(set(complete)) + n_menos1\n",
    "            \n",
    "            if n_menos1 > 0:\n",
    "                total_clusters -= 1\n",
    "                \n",
    "            if total_clusters == n_clusters:\n",
    "                break\n",
    "    \n",
    "\n",
    "    ## Atribuir cluster para os \"que não tem cluster\"\n",
    "    for idx_n, n in enumerate(complete):\n",
    "        if n == -1:\n",
    "            complete[idx_n] = max(complete) + 1\n",
    "\n",
    "    return complete"
   ]
  },
  {
   "cell_type": "code",
   "execution_count": null,
   "id": "44a2f417",
   "metadata": {},
   "outputs": [],
   "source": [
    "## Definicao das databases\n",
    "\n",
    "for i in range(2,13):\n",
    "    if i <= 5:\n",
    "        complete0 = complete_link(dados[0], i)\n",
    "        complete1 = complete_link(dados[1], i)\n",
    "    if i >= 5:\n",
    "        complete2 = complete_link(dados[2], i)\n",
    "\n",
    "df0_complete = create_df(data=dados[0], clusters=complete0)\n",
    "df1_complete = create_df(data=dados[1], clusters=complete0)\n",
    "df2_complete = create_df(data=dados[2], clusters=complete0)"
   ]
  },
  {
   "cell_type": "code",
   "execution_count": null,
   "id": "1c9d148a",
   "metadata": {},
   "outputs": [],
   "source": [
    "## Funcao para plottar complete links\n",
    "\n",
    "def complete_link_plot(): \n",
    "    for i in range(2,6):\n",
    "        cores = sns.color_palette()[0:i]\n",
    "        sns.scatterplot(data = df0_complete, x=df0_complete[\"d1\"], y=df0_complete[\"d2\"], hue=df0_complete[\"centroid\" + str(i)], palette=cores)\n",
    "        plt.show() \n",
    "    \n",
    "    for i in range(2,6):\n",
    "        cores = sns.color_palette()[0:i]\n",
    "        sns.scatterplot(data = df1_complete, x=df1_complete[\"d1\"], y=df1_complete[\"d2\"], hue=df1_complete[\"centroid\" + str(i)], palette=cores)\n",
    "        plt.show()    \n",
    "    \n",
    "    for i in range(5,13):\n",
    "        cores = sns.color_palette('Paired')[0:i]\n",
    "        sns.scatterplot(data = df2_complete, x=df2_complete[\"d1\"], y=df2_complete[\"d2\"], hue=df2_complete[\"centroid\" + str(i)], palette=cores)\n",
    "        plt.show()"
   ]
  },
  {
   "cell_type": "code",
   "execution_count": null,
   "id": "41de1e36",
   "metadata": {},
   "outputs": [],
   "source": [
    "## Exportar arquivos\n",
    "for i in range(2,13):\n",
    "    if i <= 5:\n",
    "        export_dataframe(df0_complete, \"CompleteLink\", \"glob\", i)\n",
    "        export_dataframe(df1_complete, \"CompleteLink\", \"spiral\", i)\n",
    "\n",
    "    if i >= 5:\n",
    "        export_dataframe(df2_complete, \"CompleteLink\", \"monkee\", i)"
   ]
  },
  {
   "cell_type": "markdown",
   "id": "210984c0",
   "metadata": {},
   "source": [
    "---\n",
    "## S-Rand\n",
    "Uma etapa muito importante quando se trata de agrupamento é a validação externa. Ela busca validar as partições obtidas pelos algoritmos em comparação com a partição real dos dados que é esperada. Para isto, utiliza-se o Índice Rand (RI).\n",
    "\n",
    "O Indice Rand é um dos indicativos mais tradicionais de qualidade de agrupamento de elementos. Ele faz uma comparação par-a-par entre os objetos obtidos com algum algoritmo de agrupamento e o agrupamento real esperado, verificando se eles estão no mesmo cluster ou não. Dadas as partições A e B, com os objetos de A sendo representados por $a$ e objetos de B por $b$, o RI é calculado da seguinte maneira:\n",
    "\n",
    "$$RI(A, B) = \\frac{(x_1 + x_4)}{M}$$\n",
    "sendo $x_1$ e $x_4$:\n",
    "* $x_1$ a quantidade de pares de objetos $a$,$b$ em que $a$ e $b$ pertencem ao mesmo cluster em $A$ e $B$ \n",
    "* $x_4$ a quantidade de pares de objetos $a$,$b$ em que ambos $a$ e $b$ não pertencem ao mesmo cluster em $A$ e $B$ \n",
    "\n",
    "Com o passar do tempo sentiu-se a necessidade de utilizar uma variação do Indice Rand que pudesse lidar com o acaso, e aí surgiu o Indice Rand Corrigido (ARI). O ARI varia no intervalo [–1, 1], e o valor 1 indica que as partições que estão sendo comparadas são idênticas enquanto que valores próximos de 0 ou ainda menores indicam que a semelhança entre as partições se deve ao acaso. Esta variação está implementada na função adjusted_rand_score(), pertencente à biblioteca scikit-learn (sklearn), especificamente no módulo sklearn.metrics.cluster:"
   ]
  },
  {
   "cell_type": "code",
   "execution_count": 7,
   "id": "0473192d",
   "metadata": {},
   "outputs": [],
   "source": [
    "from sklearn.metrics.cluster import adjusted_rand_score"
   ]
  },
  {
   "cell_type": "code",
   "execution_count": 26,
   "id": "70ca3a42",
   "metadata": {},
   "outputs": [],
   "source": [
    "# abaixo é o que devemos fazer para um arquivo mas devemos fazer para os outros:\n",
    "def indice_rand_corrigido(arquivo_particao_real:str, arquivo_particao_obtida:str):\n",
    "    # pegando os dados:\n",
    "    caminho_particao_real = 'datasets/' + arquivo_particao_real + '.clu'\n",
    "    caminho_particao_obtida =  arquivo_particao_obtida + '.csv'\n",
    "\n",
    "    resultado_correto = open(caminho_particao_real, 'r') #abrindo o arquivo para leitura. Aqui tem o arquivo com o agrupamento real\n",
    "    vetor_resultado_correto = []\n",
    "    resultado_alcancado = open(caminho_particao_obtida, 'r') #abrindo o arquivo para leitura. Aqui tem o arquivo com o agrupamento que conseguimos em algum dos agrupamento que implementamos\n",
    "    vetor_resultado_alcancado = []\n",
    "\n",
    "    conteudo = resultado_alcancado.readline() #aqui lemos só para não pegar aquela primeira linha com a legenda das colunas\n",
    "\n",
    "    # coletando os dados do arquivo do que se espera:\n",
    "    while(True):\n",
    "        conteudo = resultado_correto.readline() #lê linha\n",
    "\n",
    "        if (not conteudo): #se alcançar o final do arquivo\n",
    "            break #pare\n",
    "\n",
    "        numero_cluster = conteudo[len(conteudo)-2] #descontamos 1 do \\n e descontamos 1 para garantir a posição correta\n",
    "        vetor_resultado_correto.append(numero_cluster)\n",
    "\n",
    "    # coletando os dados do arquivo do que se alcançou:\n",
    "    while(True):\n",
    "        conteudo = resultado_alcancado.readline()\n",
    "        if (not conteudo):\n",
    "            break\n",
    "        numero_cluster = conteudo[len(conteudo)-2]  \n",
    "        vetor_resultado_alcancado.append(numero_cluster)\n",
    "\n",
    "    #para testar o vetores criados:\n",
    "    #print(\"PRINTANDO OS VETORES:\")\n",
    "    #print(vetor_resultado_correto)\n",
    "    #print(vetor_resultado_alcancado)\n",
    "\n",
    "    rand = adjusted_rand_score(vetor_resultado_correto, vetor_resultado_alcancado)\n",
    "    return str(rand)\n",
    "    "
   ]
  },
  {
   "cell_type": "code",
   "execution_count": 27,
   "id": "d4c1976e",
   "metadata": {},
   "outputs": [
    {
     "name": "stdout",
     "output_type": "stream",
     "text": [
      "Índices Rand Ajustados: \n",
      "Arquivo c2ds1-2sp: \n",
      "K-Médias, k = 2  0.0003149276827829834\n",
      "K-Médias, k = 3  0.056513715943419605\n",
      "K-Médias, k = 4  0.04667121027600923\n",
      "K-Média, k = 5  0.032140191264313715\n",
      "\n",
      "Arquivo c2ds3-2g: \n",
      "K-Médias, k = 2  0.968224200535676\n",
      "K-Médias, k = 3  0.5909269318842711\n",
      "K-Médias, k = 4  0.3785168029119662\n",
      "K-Médias, k = 4  0.38414069866185363\n",
      "\n",
      "Arquivo monkey: \n",
      "K-Médias, k = 5  0.4448503190862311\n",
      "K-Médias, k = 6  0.5318420155107265\n",
      "K-Médias, k = 7  0.3905510849429144\n",
      "K-Médias, k = 8  0.48510141717860844\n",
      "K-Médias, k = 9  0.46302422445167146\n",
      "K-Médias, k = 10  0.5583255899756787\n",
      "K-Médias, k = 11  0.3804102450046092\n",
      "K-Médias, k = 12  0.5815618979371739\n"
     ]
    }
   ],
   "source": [
    "# coloque indice_rand_corrigido(\"nome_arquivo_com_partições_esperadas\", \"nome_arquivo_com_partições_alcançadas\")\n",
    "print(\"Índices Rand Ajustados: \")\n",
    "print(\"Arquivo c2ds1-2sp: \")\n",
    "print(\"K-Médias, k = 2 \", indice_rand_corrigido(\"c2ds1-2spReal\", \"Kmeans_spiral2\"))\n",
    "print(\"K-Médias, k = 3 \", indice_rand_corrigido(\"c2ds1-2spReal\", \"Kmeans_spiral3\"))\n",
    "print(\"K-Médias, k = 4 \", indice_rand_corrigido(\"c2ds1-2spReal\", \"Kmeans_spiral4\"))\n",
    "print(\"K-Média, k = 5 \", indice_rand_corrigido(\"c2ds1-2spReal\", \"Kmeans_spiral5\"))\n",
    "print()\n",
    "print(\"Arquivo c2ds3-2g: \")\n",
    "print(\"K-Médias, k = 2 \", indice_rand_corrigido(\"c2ds3-2gReal\", \"Kmeans_glob2\"))\n",
    "print(\"K-Médias, k = 3 \", indice_rand_corrigido(\"c2ds3-2gReal\", \"Kmeans_glob3\"))\n",
    "print(\"K-Médias, k = 4 \", indice_rand_corrigido(\"c2ds3-2gReal\", \"Kmeans_glob4\"))\n",
    "print(\"K-Médias, k = 4 \", indice_rand_corrigido(\"c2ds3-2gReal\", \"Kmeans_glob5\"))\n",
    "print()\n",
    "print(\"Arquivo monkey: \")\n",
    "print(\"K-Médias, k = 5 \", indice_rand_corrigido(\"monkeyReal1\", \"Kmeans_monkee5\"))\n",
    "print(\"K-Médias, k = 6 \", indice_rand_corrigido(\"monkeyReal1\", \"Kmeans_monkee6\"))\n",
    "print(\"K-Médias, k = 7 \", indice_rand_corrigido(\"monkeyReal1\", \"Kmeans_monkee7\"))\n",
    "print(\"K-Médias, k = 8 \", indice_rand_corrigido(\"monkeyReal1\", \"Kmeans_monkee8\"))\n",
    "print(\"K-Médias, k = 9 \", indice_rand_corrigido(\"monkeyReal1\", \"Kmeans_monkee9\"))\n",
    "print(\"K-Médias, k = 10 \", indice_rand_corrigido(\"monkeyReal1\", \"Kmeans_monkee10\"))\n",
    "print(\"K-Médias, k = 11 \", indice_rand_corrigido(\"monkeyReal1\", \"Kmeans_monkee11\"))\n",
    "print(\"K-Médias, k = 12 \", indice_rand_corrigido(\"monkeyReal1\", \"Kmeans_monkee12\"))"
   ]
  },
  {
   "cell_type": "markdown",
   "id": "efb2050b",
   "metadata": {},
   "source": [
    "---\n",
    "## Execução e Qualidade das Partições dos Algoritmos\n",
    "\n",
    "Nesta seção, vamos executar os algoritmos implementados (K-Médias, Single-Link e Complete-Link) e avaliar a qualidade das suas respectivas partições para cada um dos três arquivos de dados.\n",
    "A análise será sustentada, principalmente, pelo cálculo do Índice Rand Corrigido."
   ]
  },
  {
   "cell_type": "markdown",
   "id": "cf01e3f4",
   "metadata": {},
   "source": [
    "K-Médias:\n",
    "\n",
    "Foram calculados os Índices para cada um dos diferentes números de clusters para cada um dos datasets fornecidos.\n",
    "\n",
    "\n",
    "Vamos começar apresentando e executando o K-Médias para o dataset 'c2ds1-2sp'. Para esse conjunto de dados, os clusters (k) variam de 2 a 5. \n"
   ]
  },
  {
   "cell_type": "code",
   "execution_count": 29,
   "id": "f005f8f4",
   "metadata": {},
   "outputs": [],
   "source": [
    "#chamar a função do k-médias para c2ds1, variando o k entre 2 e 5"
   ]
  },
  {
   "cell_type": "markdown",
   "id": "fbdf98dd",
   "metadata": {},
   "source": [
    "A seguir, os Índices Rand para cada valor de k (2 a 5) com o dataset 'c2ds1-2sp'."
   ]
  },
  {
   "cell_type": "code",
   "execution_count": 22,
   "id": "ab5d1843",
   "metadata": {},
   "outputs": [
    {
     "name": "stdout",
     "output_type": "stream",
     "text": [
      "╒═══════════════════════╤═════════════════════════╕\n",
      "│   Quantidade_Clusters │    Indice_Rand_Ajustado │\n",
      "╞═══════════════════════╪═════════════════════════╡\n",
      "│                     2 │             0.000314928 │\n",
      "├───────────────────────┼─────────────────────────┤\n",
      "│                     3 │             0.0565137   │\n",
      "├───────────────────────┼─────────────────────────┤\n",
      "│                     4 │             0.0466712   │\n",
      "├───────────────────────┼─────────────────────────┤\n",
      "│                     5 │             0.0321402   │\n",
      "╘═══════════════════════╧═════════════════════════╛\n"
     ]
    }
   ],
   "source": [
    "\n",
    "from tabulate import tabulate\n",
    "import pandas as pd\n",
    "\n",
    "tabela = pd.read_csv(\"rand_kmeans_spiral.csv\")\n",
    "print(tabulate(tabela.head(), headers='keys', tablefmt='fancy_grid', showindex=False))\n",
    "#print(tabela)"
   ]
  },
  {
   "cell_type": "markdown",
   "id": "061db609",
   "metadata": {},
   "source": [
    "Assim, podemos ver que os valores do índice Rand foram perto/longe de 1, o que indica que o algoritmo tem resultados bons/ruins para o conjunto de dados fornecidos. Isso se fortalece ao observar os gráficos gerados pelo algoritmo acima. Desse modo, dizemos que esse tipo de distribuição (não)é ideal para o uso desse algoritmo de agrupamento. "
   ]
  },
  {
   "cell_type": "markdown",
   "id": "1e73ee18",
   "metadata": {},
   "source": [
    "Agora, vamos executar o K-Médias para o dataset 'c2ds3-2g'. Para esse conjunto de dados, os clusters (k) variam de 2 a 5."
   ]
  },
  {
   "cell_type": "code",
   "execution_count": null,
   "id": "0ea87992",
   "metadata": {},
   "outputs": [],
   "source": [
    "#chamar a função do k-médias para c2ds3, variando o k entre 2 e 5"
   ]
  },
  {
   "cell_type": "markdown",
   "id": "d6bed7d6",
   "metadata": {},
   "source": [
    "A seguir, os Índices Rand para cada valor de k (2 a 5) com o dataset 'c2ds3-2g'."
   ]
  },
  {
   "cell_type": "code",
   "execution_count": 23,
   "id": "3b70aa45",
   "metadata": {},
   "outputs": [
    {
     "name": "stdout",
     "output_type": "stream",
     "text": [
      "╒═══════════════════════╤═════════════════════════╕\n",
      "│   Quantidade_Clusters │    Indice_Rand_Ajustado │\n",
      "╞═══════════════════════╪═════════════════════════╡\n",
      "│                     2 │                0.968224 │\n",
      "├───────────────────────┼─────────────────────────┤\n",
      "│                     3 │                0.590927 │\n",
      "├───────────────────────┼─────────────────────────┤\n",
      "│                     4 │                0.378517 │\n",
      "├───────────────────────┼─────────────────────────┤\n",
      "│                     5 │                0.384141 │\n",
      "╘═══════════════════════╧═════════════════════════╛\n"
     ]
    }
   ],
   "source": [
    "from tabulate import tabulate\n",
    "import pandas as pd\n",
    "\n",
    "tabela = pd.read_csv(\"rand_kmeans_glob.csv\")\n",
    "print(tabulate(tabela.head(), headers='keys', tablefmt='fancy_grid', showindex=False))\n",
    "#print(tabela)"
   ]
  },
  {
   "cell_type": "markdown",
   "id": "2e668de1",
   "metadata": {},
   "source": [
    "Assim, podemos ver que os valores do índice Rand foram perto/longe de 1, o que indica que o algoritmo tem resultados bons/ruins para o conjunto de dados fornecidos. Isso se fortalece ao observar os gráficos gerados pelo algoritmo acima. Desse modo, dizemos que esse tipo de distribuição (não)é ideal para o uso desse algoritmo de agrupamento. "
   ]
  },
  {
   "cell_type": "markdown",
   "id": "8dc01ac2",
   "metadata": {},
   "source": [
    "Por fim, vamos executar o K-Médias para o dataset 'monkey'. Para esse conjunto de dados, os clusters (k) variam de 5 a 12."
   ]
  },
  {
   "cell_type": "code",
   "execution_count": null,
   "id": "159671cc",
   "metadata": {},
   "outputs": [],
   "source": [
    "#chamar função k-medias para monkey, variando o k entre 5 e 12"
   ]
  },
  {
   "cell_type": "markdown",
   "id": "766e0c43",
   "metadata": {},
   "source": [
    "A seguir, os Índices Rand para cada valor de k (5 a 12) com o dataset 'monkey'."
   ]
  },
  {
   "cell_type": "code",
   "execution_count": 25,
   "id": "e692036d",
   "metadata": {},
   "outputs": [
    {
     "name": "stdout",
     "output_type": "stream",
     "text": [
      "╒═══════════════════════╤═════════════════════════╕\n",
      "│   Quantidade_Clusters │    Indice_Rand_Ajustado │\n",
      "╞═══════════════════════╪═════════════════════════╡\n",
      "│                     5 │                0.44485  │\n",
      "├───────────────────────┼─────────────────────────┤\n",
      "│                     6 │                0.531842 │\n",
      "├───────────────────────┼─────────────────────────┤\n",
      "│                     7 │                0.390551 │\n",
      "├───────────────────────┼─────────────────────────┤\n",
      "│                     8 │                0.485101 │\n",
      "├───────────────────────┼─────────────────────────┤\n",
      "│                     9 │                0.463024 │\n",
      "├───────────────────────┼─────────────────────────┤\n",
      "│                    10 │                0.558326 │\n",
      "├───────────────────────┼─────────────────────────┤\n",
      "│                    11 │                0.38041  │\n",
      "├───────────────────────┼─────────────────────────┤\n",
      "│                    12 │                0.581562 │\n",
      "╘═══════════════════════╧═════════════════════════╛\n"
     ]
    }
   ],
   "source": [
    "from tabulate import tabulate\n",
    "import pandas as pd\n",
    "\n",
    "tabela = pd.read_csv(\"rand_kmeans_monkee.csv\")\n",
    "print(tabulate(tabela.head(8), headers='keys', tablefmt='fancy_grid', showindex=False))\n",
    "#print(tabela)"
   ]
  },
  {
   "cell_type": "markdown",
   "id": "b6156e06",
   "metadata": {},
   "source": [
    "Assim, podemos ver que os valores do índice Rand foram perto/longe de 1, o que indica que o algoritmo tem resultados bons/ruins para o conjunto de dados fornecidos. Isso se fortalece ao observar os gráficos gerados pelo algoritmo acima. Desse modo, dizemos que esse tipo de distribuição (não)é ideal para o uso desse algoritmo de agrupamento. "
   ]
  },
  {
   "cell_type": "markdown",
   "id": "e6ca9f57",
   "metadata": {},
   "source": [
    "Single-Link:\n",
    "\n",
    "Foram calculados os Índices para cada um dos diferentes números de clusters para cada um dos datasets fornecidos.\n",
    "\n",
    "\n",
    "Vamos começar apresentando e executando o Single-Link para o dataset 'c2ds1-2sp'. Para esse conjunto de dados, os clusters (k) variam de 2 a 5. "
   ]
  },
  {
   "cell_type": "code",
   "execution_count": null,
   "id": "b1c38156",
   "metadata": {},
   "outputs": [],
   "source": [
    "#chamar a função do single-link para c2ds1, variando o k entre 2 e 5"
   ]
  },
  {
   "cell_type": "markdown",
   "id": "629d7339",
   "metadata": {},
   "source": [
    "A seguir, os Índices Rand para cada valor de k (2 a 5) com o dataset 'c2ds1-2sp'."
   ]
  },
  {
   "cell_type": "code",
   "execution_count": null,
   "id": "c6da1266",
   "metadata": {},
   "outputs": [],
   "source": [
    "import pandas as pd\n",
    "\n",
    "tabela = pd.read_csv(\"rand_singlelinkage_spiral.csv\")\n",
    "\n",
    "display(tabela)"
   ]
  },
  {
   "cell_type": "markdown",
   "id": "0c20edfa",
   "metadata": {},
   "source": [
    "Assim, podemos ver que os valores do índice Rand foram perto/longe de 1, o que indica que o algoritmo tem resultados bons/ruins para o conjunto de dados fornecidos. Isso se fortalece ao observar os gráficos gerados pelo algoritmo acima. Desse modo, dizemos que esse tipo de distribuição (não)é ideal para o uso desse algoritmo de agrupamento. "
   ]
  },
  {
   "cell_type": "markdown",
   "id": "9a2555e3",
   "metadata": {},
   "source": [
    "Agora, vamos executar o Single-Link para o dataset 'c2ds3-2g'. Para esse conjunto de dados, os clusters (k) variam de 2 a 5.\n"
   ]
  },
  {
   "cell_type": "code",
   "execution_count": null,
   "id": "9f18cc01",
   "metadata": {},
   "outputs": [],
   "source": [
    "#chamar a função do single-link para c2ds3, variando o k entre 2 e 5"
   ]
  },
  {
   "cell_type": "markdown",
   "id": "e3ca4f86",
   "metadata": {},
   "source": [
    "A seguir, os Índices Rand para cada valor de k (2 a 5) com o dataset 'c2ds3-2g'."
   ]
  },
  {
   "cell_type": "code",
   "execution_count": null,
   "id": "459e7d64",
   "metadata": {},
   "outputs": [],
   "source": [
    "import pandas as pd\n",
    "\n",
    "tabela = pd.read_csv(\"rand_singlelinkage_glob.csv\")\n",
    "\n",
    "display(tabela)"
   ]
  },
  {
   "cell_type": "markdown",
   "id": "a26af7b9",
   "metadata": {},
   "source": [
    "Assim, podemos ver que os valores do índice Rand foram perto/longe de 1, o que indica que o algoritmo tem resultados bons/ruins para o conjunto de dados fornecidos. Isso se fortalece ao observar os gráficos gerados pelo algoritmo acima. Desse modo, dizemos que esse tipo de distribuição (não)é ideal para o uso desse algoritmo de agrupamento. "
   ]
  },
  {
   "cell_type": "markdown",
   "id": "99e91e27",
   "metadata": {},
   "source": [
    "Por fim, vamos executar o Single-Link para o dataset 'monkey'. Para esse conjunto de dados, os clusters (k) variam de 5 a 12."
   ]
  },
  {
   "cell_type": "code",
   "execution_count": null,
   "id": "96b5c79c",
   "metadata": {},
   "outputs": [],
   "source": [
    "#chamar função single-link para monkey, variando o k entre 5 e 12"
   ]
  },
  {
   "cell_type": "markdown",
   "id": "a8067d77",
   "metadata": {},
   "source": [
    "A seguir, os Índices Rand para cada valor de k (5 a 12) com o dataset 'monkey'."
   ]
  },
  {
   "cell_type": "code",
   "execution_count": null,
   "id": "440e294d",
   "metadata": {},
   "outputs": [],
   "source": [
    "import pandas as pd\n",
    "\n",
    "tabela = pd.read_csv(\"rand_singlelinkage_monkee.csv\")\n",
    "\n",
    "display(tabela)"
   ]
  },
  {
   "cell_type": "markdown",
   "id": "97b1833a",
   "metadata": {},
   "source": [
    "Assim, podemos ver que os valores do índice Rand foram perto/longe de 1, o que indica que o algoritmo tem resultados bons/ruins para o conjunto de dados fornecidos. Isso se fortalece ao observar os gráficos gerados pelo algoritmo acima. Desse modo, dizemos que esse tipo de distribuição (não)é ideal para o uso desse algoritmo de agrupamento. "
   ]
  },
  {
   "cell_type": "markdown",
   "id": "8ab74f59",
   "metadata": {},
   "source": [
    "\n",
    "\n",
    "Complete-Link:\n",
    "\n",
    "Foram calculados os Índices para cada um dos diferentes números de clusters para cada um dos datasets fornecidos.\n",
    "\n",
    "\n",
    "Vamos começar apresentando e executando o Complete-Link para o dataset 'c2ds1-2sp'. Para esse conjunto de dados, os clusters (k) variam de 2 a 5. "
   ]
  },
  {
   "cell_type": "code",
   "execution_count": null,
   "id": "26a18069",
   "metadata": {},
   "outputs": [],
   "source": [
    "#chamar a função do complete-link para c2ds1, variando o k entre 2 e 5"
   ]
  },
  {
   "cell_type": "markdown",
   "id": "7ed7c6c1",
   "metadata": {},
   "source": [
    "A seguir, os Índices Rand para cada valor de k (2 a 5) com o dataset 'c2ds1-2sp'."
   ]
  },
  {
   "cell_type": "code",
   "execution_count": null,
   "id": "9603acd7",
   "metadata": {},
   "outputs": [],
   "source": [
    "import pandas as pd\n",
    "\n",
    "tabela = pd.read_csv(\"rand_completelinkage_spiral.csv\")\n",
    "\n",
    "display(tabela)"
   ]
  },
  {
   "cell_type": "markdown",
   "id": "75525569",
   "metadata": {},
   "source": [
    "Assim, podemos ver que os valores do índice Rand foram perto/longe de 1, o que indica que o algoritmo tem resultados bons/ruins para o conjunto de dados fornecidos. Isso se fortalece ao observar os gráficos gerados pelo algoritmo acima. Desse modo, dizemos que esse tipo de distribuição (não)é ideal para o uso desse algoritmo de agrupamento. "
   ]
  },
  {
   "cell_type": "markdown",
   "id": "8e51b47b",
   "metadata": {},
   "source": [
    "Agora, vamos executar o Complete-Link para o dataset 'c2ds3-2g'. Para esse conjunto de dados, os clusters (k) variam de 2 a 5.\n"
   ]
  },
  {
   "cell_type": "code",
   "execution_count": null,
   "id": "94666c0e",
   "metadata": {},
   "outputs": [],
   "source": [
    "#chamar a função do single-link para c2ds3, variando o k entre 2 e 5"
   ]
  },
  {
   "cell_type": "markdown",
   "id": "f151e138",
   "metadata": {},
   "source": [
    "A seguir, os Índices Rand para cada valor de k (2 a 5) com o dataset 'c2ds3-2g'."
   ]
  },
  {
   "cell_type": "code",
   "execution_count": null,
   "id": "4c2f9db3",
   "metadata": {},
   "outputs": [],
   "source": [
    "import pandas as pd\n",
    "\n",
    "tabela = pd.read_csv(\"rand_completelinkage_glob.csv\")\n",
    "\n",
    "display(tabela)"
   ]
  },
  {
   "cell_type": "markdown",
   "id": "2bddebeb",
   "metadata": {},
   "source": [
    "Assim, podemos ver que os valores do índice Rand foram perto/longe de 1, o que indica que o algoritmo tem resultados bons/ruins para o conjunto de dados fornecidos. Isso se fortalece ao observar os gráficos gerados pelo algoritmo acima. Desse modo, dizemos que esse tipo de distribuição (não)é ideal para o uso desse algoritmo de agrupamento. "
   ]
  },
  {
   "cell_type": "markdown",
   "id": "5b7c2f43",
   "metadata": {},
   "source": [
    "Por fim, vamos executar o Complete-Link para o dataset 'monkey'. Para esse conjunto de dados, os clusters (k) variam de 5 a 12."
   ]
  },
  {
   "cell_type": "code",
   "execution_count": null,
   "id": "ff2a7865",
   "metadata": {},
   "outputs": [],
   "source": [
    "#chamar função complete-link para monkey, variando o k entre 5 e 12"
   ]
  },
  {
   "cell_type": "markdown",
   "id": "c9c7802b",
   "metadata": {},
   "source": [
    "A seguir, os Índices Rand para cada valor de k (5 a 12) com o dataset 'monkey'."
   ]
  },
  {
   "cell_type": "code",
   "execution_count": null,
   "id": "c315ebd1",
   "metadata": {},
   "outputs": [],
   "source": [
    "import pandas as pd\n",
    "\n",
    "tabela = pd.read_csv(\"rand_completelinkage_monkee.csv\")\n",
    "\n",
    "display(tabela)"
   ]
  },
  {
   "cell_type": "markdown",
   "id": "cb56c8bd",
   "metadata": {},
   "source": [
    "Assim, podemos ver que os valores do índice Rand foram perto/longe de 1, o que indica que o algoritmo tem resultados bons/ruins para o conjunto de dados fornecidos. Isso se fortalece ao observar os gráficos gerados pelo algoritmo acima. Desse modo, dizemos que esse tipo de distribuição (não)é ideal para o uso desse algoritmo de agrupamento. "
   ]
  },
  {
   "cell_type": "markdown",
   "id": "fdc1332f",
   "metadata": {},
   "source": [
    "--- \n",
    "## Comparação com Notebook do roteiro 3\n",
    "Após plotar todos os gráficos para cada um dos algoritmos e datasets, usando, também, o Índice Rand para avaliar a qualidade das partições obtidas pelo grupo, finalmente podemos comparar aquilo que obtivemos com as partições reais providas pelo notebook do roteiro 3.\n",
    "Aqui, iremos discutir e analisar as diferenças e semelhanças de cada conjunto de resultados obtidos.\n"
   ]
  },
  {
   "cell_type": "markdown",
   "id": "329051a4",
   "metadata": {},
   "source": [
    "---\n",
    "## Conclusão\n",
    "\n",
    "falar sobre como foi o comportamneto dos diferentes algoritmos com os dados, se seguiu o esperado ou não, a relação do ARI com o que encontramos, objetivo geral do trabalho "
   ]
  }
 ],
 "metadata": {
  "kernelspec": {
   "display_name": "Python 3 (ipykernel)",
   "language": "python",
   "name": "python3"
  },
  "language_info": {
   "codemirror_mode": {
    "name": "ipython",
    "version": 3
   },
   "file_extension": ".py",
   "mimetype": "text/x-python",
   "name": "python",
   "nbconvert_exporter": "python",
   "pygments_lexer": "ipython3",
   "version": "3.12.4"
  }
 },
 "nbformat": 4,
 "nbformat_minor": 5
}
